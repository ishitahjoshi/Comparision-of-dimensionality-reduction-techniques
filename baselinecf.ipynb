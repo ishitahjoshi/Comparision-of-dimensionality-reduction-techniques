{
 "cells": [
  {
   "cell_type": "code",
   "execution_count": 2,
   "id": "08a9a133",
   "metadata": {},
   "outputs": [],
   "source": [
    "import pandas as pd\n",
    "import numpy as np\n",
    "from sklearn.tree import DecisionTreeClassifier as DT # Import Decision Tree Classifier\n",
    "from sklearn.naive_bayes import GaussianNB as nbc\n",
    "from sklearn import metrics #Import scikit-learn metrics module for accuracy calculation\n",
    "from sklearn.metrics import precision_score, recall_score, f1_score, accuracy_score, make_scorer\n",
    "from sklearn.model_selection import (train_test_split, learning_curve, cross_val_score, cross_val_predict, \n",
    "ShuffleSplit, KFold, cross_validate)\n",
    "from numpy import mean\n",
    "from sklearn.datasets import make_classification\n",
    "from sklearn.linear_model import LogisticRegression\n",
    "from matplotlib import pyplot\n",
    "from sklearn.svm import SVC\n",
    "from sklearn.pipeline import make_pipeline\n",
    "from sklearn.preprocessing import StandardScaler\n",
    "from sklearn.neural_network import MLPClassifier as MLP"
   ]
  },
  {
   "cell_type": "code",
   "execution_count": 15,
   "id": "07bafab3",
   "metadata": {
    "scrolled": true
   },
   "outputs": [
    {
     "name": "stdout",
     "output_type": "stream",
     "text": [
      "shape of the dataset (34999, 355)\n"
     ]
    }
   ],
   "source": [
    "df = pd.read_csv(\"Datasets/D4.csv\")\n",
    "print(\"shape of the dataset\", df.shape)\n",
    "# df = df.dropna()"
   ]
  },
  {
   "cell_type": "code",
   "execution_count": 16,
   "id": "beb81a9a",
   "metadata": {
    "scrolled": false
   },
   "outputs": [
    {
     "name": "stdout",
     "output_type": "stream",
     "text": [
      "Results for model =  Pipeline(steps=[('standardscaler', StandardScaler()),\n",
      "                ('svc', SVC(gamma='auto', kernel='linear'))])\n",
      "> folds= 1 , accuracy = 0.781 , F1_score = 0.782\n",
      "> folds= 2 , accuracy = 0.802 , F1_score = 0.803\n",
      "> folds= 3 , accuracy = 0.815 , F1_score = 0.815\n",
      "> folds= 4 , accuracy = 0.818 , F1_score = 0.819\n",
      "> folds= 5 , accuracy = 0.822 , F1_score = 0.822\n",
      "> folds= 6 , accuracy = 0.823 , F1_score = 0.824\n",
      "> folds= 7 , accuracy = 0.825 , F1_score = 0.825\n",
      "> folds= 8 , accuracy = 0.825 , F1_score = 0.825\n",
      "> folds= 9 , accuracy = 0.827 , F1_score = 0.827\n",
      "> folds= 10 , accuracy = 0.829 , F1_score = 0.829\n"
     ]
    }
   ],
   "source": [
    "def get_dataset():\n",
    "    X = df.iloc[:, :-1]\n",
    "    y = df.iloc[: , -1]\n",
    "    return X, y\n",
    "def get_model():\n",
    "    models = list()\n",
    "#     models.append(nbc())\n",
    "    models.append(make_pipeline(StandardScaler(), SVC(gamma='auto',kernel='linear')))\n",
    "#     models.append(DT())\n",
    "#     models.append(MLP(hidden_layer_sizes=(256,128,128), activation='relu', solver='adam', alpha=0.005, max_iter=250, shuffle=True, random_state=None, verbose=False))\n",
    "    return models\n",
    " \n",
    "def evaluate_model(cv, model):\n",
    "    X, y = get_dataset()  # get the dataset\n",
    "#     model = get_model()  # get the model\n",
    "    scoring = {'accuracy': make_scorer(accuracy_score),\n",
    "               'f1_score': make_scorer(f1_score, average='weighted')}\n",
    "    # evaluate the model\n",
    "    scores = cross_validate(model, X, y, scoring=scoring, cv=cv, n_jobs=-1)\n",
    "    return scores\n",
    "\n",
    "# define folds to test\n",
    "folds = range(2,12)\n",
    "models = get_model()\n",
    "accList, fscoreList = list(), list()\n",
    "\n",
    "for model in models:\n",
    "    print(\"Results for model = \", model)\n",
    "    for k in folds:\n",
    "        cv = KFold(n_splits=k, shuffle=True, random_state=42)\n",
    "        score = evaluate_model(cv, model)\n",
    "        accuracy = np.mean(score['test_accuracy'])\n",
    "        accList.append(accuracy)\n",
    "        f1 = np.mean(score['test_f1_score'])\n",
    "        fscoreList.append(f1)\n",
    "        print('> folds=', k-1, ', accuracy =', round(accuracy,3), ', F1_score =', round(f1,3))"
   ]
  },
  {
   "cell_type": "code",
   "execution_count": 14,
   "id": "88aff42c",
   "metadata": {},
   "outputs": [
    {
     "data": {
      "image/png": "[encoded data removed]",
      "text/plain": [
       "<Figure size 504x360 with 1 Axes>"
      ]
     },
     "metadata": {
      "needs_background": "light"
     },
     "output_type": "display_data"
    }
   ],
   "source": [
    "fig, ax = pyplot.subplots(figsize=(7,5))\n",
    "\n",
    "ax.plot(folds, accList, color='orange', label=\"Accuracy\", linewidth=2)\n",
    "ax.plot(folds, fscoreList, color='blue', label=\"F1_Score\", linewidth=2)\n",
    "# ax.set_ylim(ymin=.3, ymax=.5)\n",
    "ax.set_title('Accuracy vs F1_Score for baseline SVM on D4 ')\n",
    "ax.set_xlabel('K-Fold value')\n",
    "ax.set_ylabel('Mean (Accuracy and F1-Score)')\n",
    "ax.legend(loc=\"upper right\")\n",
    "\n",
    "# show the plot\n",
    "pyplot.show()"
   ]
  },
  {
   "cell_type": "code",
   "execution_count": null,
   "id": "e94dad64",
   "metadata": {},
   "outputs": [],
   "source": []
  }
 ],
 "metadata": {
  "kernelspec": {
   "display_name": "Python 3",
   "language": "python",
   "name": "python3"
  },
  "language_info": {
   "codemirror_mode": {
    "name": "ipython",
    "version": 3
   },
   "file_extension": ".py",
   "mimetype": "text/x-python",
   "name": "python",
   "nbconvert_exporter": "python",
   "pygments_lexer": "ipython3",
   "version": "3.8.8"
  }
 },
 "nbformat": 4,
 "nbformat_minor": 5
}
